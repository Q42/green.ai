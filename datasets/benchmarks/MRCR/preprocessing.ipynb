{
 "cells": [
  {
   "cell_type": "code",
   "id": "initial_id",
   "metadata": {
    "collapsed": true,
    "ExecuteTime": {
     "end_time": "2025-04-17T11:22:26.083666Z",
     "start_time": "2025-04-17T11:22:21.358689Z"
    }
   },
   "source": [
    "import tiktoken\n",
    "from huggingface_hub import hf_hub_download\n",
    "import pandas as pd\n",
    "\n",
    "dataset = pd.read_parquet(\n",
    "    hf_hub_download(repo_id=\"openai/mrcr\", filename=\"2needle.parquet\", repo_type=\"dataset\")\n",
    ")\n"
   ],
   "outputs": [],
   "execution_count": 6
  },
  {
   "metadata": {
    "ExecuteTime": {
     "end_time": "2025-04-17T11:25:15.552217Z",
     "start_time": "2025-04-17T11:25:15.548327Z"
    }
   },
   "cell_type": "code",
   "source": [
    "import json\n",
    "\n",
    "enc = tiktoken.get_encoding(\"o200k_base\")\n",
    "\n",
    "def n_tokens(row) -> int:\n",
    "    \"\"\"\n",
    "    Count tokens in messages.\n",
    "    \"\"\"\n",
    "    messages = json.loads(row[\"prompt\"])\n",
    "\n",
    "    return sum([len(enc.encode(m[\"content\"])) for m in messages])\n"
   ],
   "id": "bd9a1eb2507a53a",
   "outputs": [],
   "execution_count": 12
  },
  {
   "metadata": {
    "ExecuteTime": {
     "end_time": "2025-04-17T11:24:55.985758Z",
     "start_time": "2025-04-17T11:24:55.983006Z"
    }
   },
   "cell_type": "code",
   "source": "MAX_CONTEXT_WINDOW= 64000",
   "id": "26aafcd674cb72e3",
   "outputs": [],
   "execution_count": 10
  },
  {
   "metadata": {
    "ExecuteTime": {
     "end_time": "2025-04-17T12:24:50.947035Z",
     "start_time": "2025-04-17T12:22:05.750812Z"
    }
   },
   "cell_type": "code",
   "source": [
    "df = dataset[dataset.apply(lambda row: n_tokens(row) < MAX_CONTEXT_WINDOW, axis=1)]\n",
    "len(df)"
   ],
   "id": "a61c41a7d6356c6d",
   "outputs": [
    {
     "data": {
      "text/plain": [
       "400"
      ]
     },
     "execution_count": 26,
     "metadata": {},
     "output_type": "execute_result"
    }
   ],
   "execution_count": 26
  },
  {
   "metadata": {
    "ExecuteTime": {
     "end_time": "2025-04-17T12:27:00.156912Z",
     "start_time": "2025-04-17T12:26:51.653067Z"
    }
   },
   "cell_type": "code",
   "source": "df2 = df[df.apply(lambda row: n_tokens(row) > (MAX_CONTEXT_WINDOW -30000), axis=1)]",
   "id": "ac2181741dd1bf98",
   "outputs": [],
   "execution_count": 37
  },
  {
   "metadata": {
    "ExecuteTime": {
     "end_time": "2025-04-17T12:27:00.982464Z",
     "start_time": "2025-04-17T12:27:00.978702Z"
    }
   },
   "cell_type": "code",
   "source": "len(df2)",
   "id": "dcdae4b4d1a7fddd",
   "outputs": [
    {
     "data": {
      "text/plain": [
       "94"
      ]
     },
     "execution_count": 38,
     "metadata": {},
     "output_type": "execute_result"
    }
   ],
   "execution_count": 38
  },
  {
   "metadata": {
    "ExecuteTime": {
     "end_time": "2025-04-17T12:27:58.578034Z",
     "start_time": "2025-04-17T12:27:58.012912Z"
    }
   },
   "cell_type": "code",
   "source": "df2.to_csv(\"MRCR-64000.csv\")",
   "id": "242014321d950131",
   "outputs": [],
   "execution_count": 40
  }
 ],
 "metadata": {
  "kernelspec": {
   "display_name": "Python 3",
   "language": "python",
   "name": "python3"
  },
  "language_info": {
   "codemirror_mode": {
    "name": "ipython",
    "version": 2
   },
   "file_extension": ".py",
   "mimetype": "text/x-python",
   "name": "python",
   "nbconvert_exporter": "python",
   "pygments_lexer": "ipython2",
   "version": "2.7.6"
  }
 },
 "nbformat": 4,
 "nbformat_minor": 5
}
