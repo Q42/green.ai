{
 "cells": [
  {
   "cell_type": "code",
   "id": "initial_id",
   "metadata": {
    "collapsed": true,
    "ExecuteTime": {
     "end_time": "2025-04-28T13:19:23.781615Z",
     "start_time": "2025-04-28T13:19:23.768904Z"
    }
   },
   "source": [
    "import json\n",
    "import pandas as pd\n",
    "\n",
    "with open(\"../chat_history_base.json\") as f:\n",
    "    data = json.load(f)\n",
    "    bdf = pd.json_normalize(data)\n",
    "\n",
    "with open(\"../chat_history_cutoff.json\") as f:\n",
    "    data = json.load(f)\n",
    "    cdf = pd.json_normalize(data)\n",
    "\n",
    "df = pd.concat([bdf, cdf], ignore_index=True)\n",
    "\n",
    "\n",
    "df['gpu_energy.joules'] = df['gpu_energy'] * 3600000\n",
    "df['gpu_energy.request'] = df['gpu_energy.joules'] / 100\n",
    "df = df.loc[~df.debug_mode]"
   ],
   "outputs": [
    {
     "name": "stderr",
     "output_type": "stream",
     "text": [
      "/var/folders/21/z6g2wbcn46bc8y3wcpmc3zrr0000gp/T/ipykernel_14451/2144231377.py:12: FutureWarning: The behavior of DataFrame concatenation with empty or all-NA entries is deprecated. In a future version, this will no longer exclude empty or all-NA columns when determining the result dtypes. To retain the old behavior, exclude the relevant entries before the concat operation.\n",
      "  df = pd.concat([bdf, cdf], ignore_index=True)\n"
     ]
    }
   ],
   "execution_count": 15
  },
  {
   "metadata": {
    "ExecuteTime": {
     "end_time": "2025-04-28T13:19:26.358622Z",
     "start_time": "2025-04-28T13:19:26.353545Z"
    }
   },
   "cell_type": "code",
   "source": "cutoff_df = df.dropna(subset=['cutoff'])",
   "id": "6c9810ebc09f614d",
   "outputs": [],
   "execution_count": 16
  },
  {
   "metadata": {
    "ExecuteTime": {
     "end_time": "2025-04-28T13:19:28.862687Z",
     "start_time": "2025-04-28T13:19:28.858757Z"
    }
   },
   "cell_type": "code",
   "source": "cutoff_df.set_index('cutoff', inplace=True)",
   "id": "1107e3e7611e5457",
   "outputs": [],
   "execution_count": 17
  },
  {
   "metadata": {
    "ExecuteTime": {
     "end_time": "2025-04-28T13:19:30.410638Z",
     "start_time": "2025-04-28T13:19:30.404947Z"
    }
   },
   "cell_type": "code",
   "source": [
    "cutoff_df.groupby('model')['gpu_energy.joules'].plot(\n",
    "    legend=True,\n",
    "    xlabel='cutoff',\n",
    "    ylabel='total energy consumption',\n",
    "    rot=0,\n",
    "    title='Energy consumption per token with different input sizes',\n",
    "    style='.-',\n",
    ")"
   ],
   "id": "778c38db664b5508",
   "outputs": [
    {
     "data": {
      "text/plain": [
       "Series([], Name: gpu_energy.joules, dtype: float64)"
      ]
     },
     "execution_count": 18,
     "metadata": {},
     "output_type": "execute_result"
    }
   ],
   "execution_count": 18
  }
 ],
 "metadata": {
  "kernelspec": {
   "display_name": "Python 3",
   "language": "python",
   "name": "python3"
  },
  "language_info": {
   "codemirror_mode": {
    "name": "ipython",
    "version": 2
   },
   "file_extension": ".py",
   "mimetype": "text/x-python",
   "name": "python",
   "nbconvert_exporter": "python",
   "pygments_lexer": "ipython2",
   "version": "2.7.6"
  }
 },
 "nbformat": 4,
 "nbformat_minor": 5
}
