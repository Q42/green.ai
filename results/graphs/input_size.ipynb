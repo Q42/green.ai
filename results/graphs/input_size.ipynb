{
 "cells": [
  {
   "metadata": {},
   "cell_type": "code",
   "outputs": [],
   "execution_count": null,
   "source": [
    "import json\n",
    "import pandas as pd\n",
    "\n",
    "with open(\"../input_size.json\") as f:\n",
    "    data = json.load(f)\n",
    "    df = pd.json_normalize(data)\n",
    "\n",
    "df['gpu_energy.joules'] = df['gpu_energy'] * 3600000\n",
    "df['gpu_energy.request'] = df['gpu_energy.joules'] / 100\n",
    "df"
   ],
   "id": "14bbd3af2bbe2def"
  },
  {
   "metadata": {},
   "cell_type": "code",
   "outputs": [],
   "execution_count": null,
   "source": "df['gpu_energy.divided'] = df['gpu_energy.request'] / df['config.info.mean']",
   "id": "74ea425ada19793d"
  },
  {
   "metadata": {},
   "cell_type": "code",
   "outputs": [],
   "execution_count": null,
   "source": "df",
   "id": "cee90b15f22400c4"
  },
  {
   "metadata": {},
   "cell_type": "code",
   "outputs": [],
   "execution_count": null,
   "source": [
    "result_df = df.groupby(['model', 'config.info.mean'], as_index=False).agg({\n",
    "    'gpu_energy.joules': 'mean',\n",
    "    # Add other columns with their aggregation methods\n",
    "    **{col: 'first' for col in df.columns if col not in ['model', 'config.info.mean', 'gpu_energy.joules']}\n",
    "})"
   ],
   "id": "e1cad1820a29d195"
  },
  {
   "metadata": {},
   "cell_type": "code",
   "outputs": [],
   "execution_count": null,
   "source": "df.groupby('config.info.mean')['gpu_energy.joules'].mean().reset_index()\n",
   "id": "9b84e467ee6f2a4"
  },
  {
   "metadata": {},
   "cell_type": "code",
   "outputs": [],
   "execution_count": null,
   "source": "df",
   "id": "da8726afab84f55f"
  },
  {
   "metadata": {},
   "cell_type": "code",
   "outputs": [],
   "execution_count": null,
   "source": [
    "result_df = df.groupby(['model', 'config.info.mean'], as_index=False).agg({\n",
    "    'gpu_energy.joules': 'mean',\n",
    "    # Add other columns with their aggregation methods\n",
    "    **{col: 'first' for col in df.columns if col not in ['model', 'config.info.mean', 'gpu_energy.joules']}\n",
    "})"
   ],
   "id": "65dfe16e0a26691e"
  },
  {
   "metadata": {},
   "cell_type": "code",
   "outputs": [],
   "execution_count": null,
   "source": "result_df.set_index('config.info.mean', inplace=True)\n",
   "id": "597ad8b2247d60cb"
  },
  {
   "metadata": {},
   "cell_type": "code",
   "outputs": [],
   "execution_count": null,
   "source": [
    "result_df.groupby('model')['gpu_energy.divided'].plot(\n",
    "    legend=True,\n",
    "    xlabel='token input amount',\n",
    "    ylabel='energy per token (joules)',\n",
    "    rot=0,\n",
    "    title='Energy consumption per token with different input sizes',\n",
    "    style='.-',\n",
    ")"
   ],
   "id": "c6da1d3f37343d7d"
  },
  {
   "metadata": {},
   "cell_type": "code",
   "outputs": [],
   "execution_count": null,
   "source": [
    "result_df.groupby('model')['gpu_energy.request'].plot(\n",
    "    legend=True,\n",
    "    xlabel='token input amount',\n",
    "    ylabel='Total request energy consumption (joules)',\n",
    "    rot=0,\n",
    "    title='Energy consumption per request with different input sizes',\n",
    "    style='.-',\n",
    ")"
   ],
   "id": "8095eb3086de982e"
  }
 ],
 "metadata": {
  "kernelspec": {
   "display_name": "Python 3",
   "language": "python",
   "name": "python3"
  },
  "language_info": {
   "codemirror_mode": {
    "name": "ipython",
    "version": 2
   },
   "file_extension": ".py",
   "mimetype": "text/x-python",
   "name": "python",
   "nbconvert_exporter": "python",
   "pygments_lexer": "ipython2",
   "version": "2.7.6"
  }
 },
 "nbformat": 4,
 "nbformat_minor": 5
}
