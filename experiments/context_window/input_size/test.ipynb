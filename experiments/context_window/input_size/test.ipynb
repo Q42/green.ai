{
 "cells": [
  {
   "cell_type": "code",
   "execution_count": 3,
   "id": "initial_id",
   "metadata": {
    "tags": []
   },
   "outputs": [
    {
     "name": "stdout",
     "output_type": "stream",
     "text": [
      "/home/jupyter/green.ai\n"
     ]
    }
   ],
   "source": [
    "import sys, os\n",
    "\n",
    "module_path = os.path.abspath(os.getcwd() + '/../../..')\n",
    "print(module_path)\n",
    "\n",
    "os.environ[\"OPENAI_API_KEY\"] = \"\"\n",
    "\n",
    "sys.path.append(module_path)"
   ]
  },
  {
   "cell_type": "code",
   "execution_count": 4,
   "id": "d669fbfa1a0781be",
   "metadata": {
    "ExecuteTime": {
     "end_time": "2025-03-25T15:48:31.927578Z",
     "start_time": "2025-03-25T15:47:40.957994Z"
    },
    "tags": []
   },
   "outputs": [
    {
     "name": "stderr",
     "output_type": "stream",
     "text": [
      "[codecarbon INFO @ 13:39:52] [setup] RAM Tracking...\n",
      "[codecarbon INFO @ 13:39:52] [setup] GPU Tracking...\n",
      "[codecarbon INFO @ 13:39:52] Tracking Nvidia GPU via pynvml\n",
      "[codecarbon INFO @ 13:39:52] [setup] CPU Tracking...\n",
      "[codecarbon WARNING @ 13:39:52] No CPU tracking mode found. Falling back on CPU constant mode.\n",
      "[codecarbon WARNING @ 13:39:53] We saw that you have a Intel(R) Xeon(R) CPU @ 2.00GHz but we don't know it. Please contact us.\n",
      "[codecarbon INFO @ 13:39:53] CPU Model on constant consumption mode: Intel(R) Xeon(R) CPU @ 2.00GHz\n",
      "[codecarbon INFO @ 13:39:53] >>> Tracker's metadata:\n",
      "[codecarbon INFO @ 13:39:53]   Platform system: Linux-5.10.0-34-cloud-amd64-x86_64-with-glibc2.31\n",
      "[codecarbon INFO @ 13:39:53]   Python version: 3.11.0\n",
      "[codecarbon INFO @ 13:39:53]   CodeCarbon version: 2.2.2\n",
      "[codecarbon INFO @ 13:39:53]   Available RAM : 14.649 GB\n",
      "[codecarbon INFO @ 13:39:53]   CPU count: 4\n",
      "[codecarbon INFO @ 13:39:53]   CPU model: Intel(R) Xeon(R) CPU @ 2.00GHz\n",
      "[codecarbon INFO @ 13:39:53]   GPU count: 2\n",
      "[codecarbon INFO @ 13:39:53]   GPU model: 2 x Tesla T4\n"
     ]
    },
    {
     "name": "stdout",
     "output_type": "stream",
     "text": [
      "warmup for: 100\n"
     ]
    },
    {
     "name": "stderr",
     "output_type": "stream",
     "text": [
      "100%|██████████| 100/100 [00:02<00:00, 37.14it/s]\n"
     ]
    },
    {
     "name": "stdout",
     "output_type": "stream",
     "text": [
      "testing: 100\n"
     ]
    },
    {
     "name": "stderr",
     "output_type": "stream",
     "text": [
      "100%|██████████| 100/100 [00:04<00:00, 23.52it/s]\n",
      "[codecarbon INFO @ 13:40:00] Energy consumed for RAM : 0.000006 kWh. RAM Power : 5.493237018585205 W\n",
      "[codecarbon INFO @ 13:40:00] Energy consumed for all GPUs : 0.000058 kWh. Total GPU Power : 49.057 W\n",
      "[codecarbon INFO @ 13:40:00] Energy consumed for all CPUs : 0.000051 kWh. Total CPU Power : 42.5 W\n",
      "[codecarbon INFO @ 13:40:00] 0.000115 kWh of electricity used since the beginning.\n",
      "[codecarbon INFO @ 13:40:01] [setup] RAM Tracking...\n",
      "[codecarbon INFO @ 13:40:01] [setup] GPU Tracking...\n",
      "[codecarbon INFO @ 13:40:01] Tracking Nvidia GPU via pynvml\n",
      "[codecarbon INFO @ 13:40:01] [setup] CPU Tracking...\n",
      "[codecarbon WARNING @ 13:40:01] No CPU tracking mode found. Falling back on CPU constant mode.\n",
      "[codecarbon WARNING @ 13:40:02] We saw that you have a Intel(R) Xeon(R) CPU @ 2.00GHz but we don't know it. Please contact us.\n",
      "[codecarbon INFO @ 13:40:02] CPU Model on constant consumption mode: Intel(R) Xeon(R) CPU @ 2.00GHz\n",
      "[codecarbon INFO @ 13:40:02] >>> Tracker's metadata:\n",
      "[codecarbon INFO @ 13:40:02]   Platform system: Linux-5.10.0-34-cloud-amd64-x86_64-with-glibc2.31\n",
      "[codecarbon INFO @ 13:40:02]   Python version: 3.11.0\n",
      "[codecarbon INFO @ 13:40:02]   CodeCarbon version: 2.2.2\n",
      "[codecarbon INFO @ 13:40:02]   Available RAM : 14.649 GB\n",
      "[codecarbon INFO @ 13:40:02]   CPU count: 4\n",
      "[codecarbon INFO @ 13:40:02]   CPU model: Intel(R) Xeon(R) CPU @ 2.00GHz\n",
      "[codecarbon INFO @ 13:40:02]   GPU count: 2\n",
      "[codecarbon INFO @ 13:40:02]   GPU model: 2 x Tesla T4\n"
     ]
    },
    {
     "name": "stdout",
     "output_type": "stream",
     "text": [
      "warmup for: 500\n"
     ]
    },
    {
     "name": "stderr",
     "output_type": "stream",
     "text": [
      "100%|██████████| 200/200 [00:08<00:00, 24.33it/s]\n"
     ]
    },
    {
     "name": "stdout",
     "output_type": "stream",
     "text": [
      "testing: 500\n"
     ]
    },
    {
     "name": "stderr",
     "output_type": "stream",
     "text": [
      "100%|██████████| 200/200 [00:08<00:00, 24.66it/s] \n",
      "[codecarbon INFO @ 13:40:18] Energy consumed for RAM : 0.000012 kWh. RAM Power : 5.493237018585205 W\n",
      "[codecarbon INFO @ 13:40:18] Energy consumed for all GPUs : 0.000118 kWh. Total GPU Power : 52.262 W\n",
      "[codecarbon INFO @ 13:40:18] Energy consumed for all CPUs : 0.000096 kWh. Total CPU Power : 42.5 W\n",
      "[codecarbon INFO @ 13:40:18] 0.000226 kWh of electricity used since the beginning.\n",
      "[codecarbon INFO @ 13:40:18] [setup] RAM Tracking...\n",
      "[codecarbon INFO @ 13:40:18] [setup] GPU Tracking...\n",
      "[codecarbon INFO @ 13:40:18] Tracking Nvidia GPU via pynvml\n",
      "[codecarbon INFO @ 13:40:18] [setup] CPU Tracking...\n",
      "[codecarbon WARNING @ 13:40:18] No CPU tracking mode found. Falling back on CPU constant mode.\n",
      "[codecarbon WARNING @ 13:40:19] We saw that you have a Intel(R) Xeon(R) CPU @ 2.00GHz but we don't know it. Please contact us.\n",
      "[codecarbon INFO @ 13:40:19] CPU Model on constant consumption mode: Intel(R) Xeon(R) CPU @ 2.00GHz\n",
      "[codecarbon INFO @ 13:40:19] >>> Tracker's metadata:\n",
      "[codecarbon INFO @ 13:40:19]   Platform system: Linux-5.10.0-34-cloud-amd64-x86_64-with-glibc2.31\n",
      "[codecarbon INFO @ 13:40:19]   Python version: 3.11.0\n",
      "[codecarbon INFO @ 13:40:19]   CodeCarbon version: 2.2.2\n",
      "[codecarbon INFO @ 13:40:19]   Available RAM : 14.649 GB\n",
      "[codecarbon INFO @ 13:40:19]   CPU count: 4\n",
      "[codecarbon INFO @ 13:40:19]   CPU model: Intel(R) Xeon(R) CPU @ 2.00GHz\n",
      "[codecarbon INFO @ 13:40:19]   GPU count: 2\n",
      "[codecarbon INFO @ 13:40:19]   GPU model: 2 x Tesla T4\n"
     ]
    },
    {
     "name": "stdout",
     "output_type": "stream",
     "text": [
      "warmup for: 1000\n"
     ]
    },
    {
     "name": "stderr",
     "output_type": "stream",
     "text": [
      "100%|██████████| 300/300 [00:13<00:00, 22.40it/s] \n"
     ]
    },
    {
     "name": "stdout",
     "output_type": "stream",
     "text": [
      "testing: 1000\n"
     ]
    },
    {
     "name": "stderr",
     "output_type": "stream",
     "text": [
      "100%|██████████| 300/300 [00:13<00:00, 21.61it/s] \n",
      "[codecarbon INFO @ 13:40:47] Energy consumed for RAM : 0.000021 kWh. RAM Power : 5.493237018585205 W\n",
      "[codecarbon INFO @ 13:40:47] Energy consumed for all GPUs : 0.000305 kWh. Total GPU Power : 78.921 W\n",
      "[codecarbon INFO @ 13:40:47] Energy consumed for all CPUs : 0.000164 kWh. Total CPU Power : 42.5 W\n",
      "[codecarbon INFO @ 13:40:47] 0.000490 kWh of electricity used since the beginning.\n",
      "[codecarbon INFO @ 13:40:47] [setup] RAM Tracking...\n",
      "[codecarbon INFO @ 13:40:47] [setup] GPU Tracking...\n",
      "[codecarbon INFO @ 13:40:47] Tracking Nvidia GPU via pynvml\n",
      "[codecarbon INFO @ 13:40:47] [setup] CPU Tracking...\n",
      "[codecarbon WARNING @ 13:40:47] No CPU tracking mode found. Falling back on CPU constant mode.\n",
      "[codecarbon WARNING @ 13:40:48] We saw that you have a Intel(R) Xeon(R) CPU @ 2.00GHz but we don't know it. Please contact us.\n",
      "[codecarbon INFO @ 13:40:48] CPU Model on constant consumption mode: Intel(R) Xeon(R) CPU @ 2.00GHz\n",
      "[codecarbon INFO @ 13:40:48] >>> Tracker's metadata:\n",
      "[codecarbon INFO @ 13:40:48]   Platform system: Linux-5.10.0-34-cloud-amd64-x86_64-with-glibc2.31\n",
      "[codecarbon INFO @ 13:40:48]   Python version: 3.11.0\n",
      "[codecarbon INFO @ 13:40:48]   CodeCarbon version: 2.2.2\n",
      "[codecarbon INFO @ 13:40:48]   Available RAM : 14.649 GB\n",
      "[codecarbon INFO @ 13:40:48]   CPU count: 4\n",
      "[codecarbon INFO @ 13:40:48]   CPU model: Intel(R) Xeon(R) CPU @ 2.00GHz\n",
      "[codecarbon INFO @ 13:40:48]   GPU count: 2\n",
      "[codecarbon INFO @ 13:40:48]   GPU model: 2 x Tesla T4\n"
     ]
    },
    {
     "name": "stdout",
     "output_type": "stream",
     "text": [
      "warmup for: 2000\n"
     ]
    },
    {
     "name": "stderr",
     "output_type": "stream",
     "text": [
      "100%|██████████| 400/400 [00:22<00:00, 17.93it/s]\n"
     ]
    },
    {
     "name": "stdout",
     "output_type": "stream",
     "text": [
      "testing: 2000\n"
     ]
    },
    {
     "name": "stderr",
     "output_type": "stream",
     "text": [
      " 22%|██▏       | 87/400 [00:14<00:21, 14.64it/s][codecarbon INFO @ 13:41:25] Energy consumed for RAM : 0.000023 kWh. RAM Power : 5.493237018585205 W\n",
      " 25%|██▍       | 99/400 [00:15<00:11, 27.14it/s][codecarbon INFO @ 13:41:25] Energy consumed for all GPUs : 0.000365 kWh. Total GPU Power : 87.58200000000001 W\n",
      "[codecarbon INFO @ 13:41:25] Energy consumed for all CPUs : 0.000178 kWh. Total CPU Power : 42.5 W\n",
      "[codecarbon INFO @ 13:41:25] 0.000566 kWh of electricity used since the beginning.\n",
      "100%|██████████| 400/400 [00:22<00:00, 17.73it/s]\n",
      "[codecarbon INFO @ 13:41:33] Energy consumed for RAM : 0.000034 kWh. RAM Power : 5.493237018585205 W\n",
      "[codecarbon INFO @ 13:41:33] Energy consumed for all GPUs : 0.000475 kWh. Total GPU Power : 52.359 W\n",
      "[codecarbon INFO @ 13:41:33] Energy consumed for all CPUs : 0.000267 kWh. Total CPU Power : 42.5 W\n",
      "[codecarbon INFO @ 13:41:33] 0.000776 kWh of electricity used since the beginning.\n",
      "[codecarbon INFO @ 13:41:33] [setup] RAM Tracking...\n",
      "[codecarbon INFO @ 13:41:33] [setup] GPU Tracking...\n",
      "[codecarbon INFO @ 13:41:33] Tracking Nvidia GPU via pynvml\n",
      "[codecarbon INFO @ 13:41:33] [setup] CPU Tracking...\n",
      "[codecarbon WARNING @ 13:41:33] No CPU tracking mode found. Falling back on CPU constant mode.\n",
      "[codecarbon WARNING @ 13:41:34] We saw that you have a Intel(R) Xeon(R) CPU @ 2.00GHz but we don't know it. Please contact us.\n",
      "[codecarbon INFO @ 13:41:34] CPU Model on constant consumption mode: Intel(R) Xeon(R) CPU @ 2.00GHz\n",
      "[codecarbon INFO @ 13:41:34] >>> Tracker's metadata:\n",
      "[codecarbon INFO @ 13:41:34]   Platform system: Linux-5.10.0-34-cloud-amd64-x86_64-with-glibc2.31\n",
      "[codecarbon INFO @ 13:41:34]   Python version: 3.11.0\n",
      "[codecarbon INFO @ 13:41:34]   CodeCarbon version: 2.2.2\n",
      "[codecarbon INFO @ 13:41:34]   Available RAM : 14.649 GB\n",
      "[codecarbon INFO @ 13:41:34]   CPU count: 4\n",
      "[codecarbon INFO @ 13:41:34]   CPU model: Intel(R) Xeon(R) CPU @ 2.00GHz\n",
      "[codecarbon INFO @ 13:41:34]   GPU count: 2\n",
      "[codecarbon INFO @ 13:41:34]   GPU model: 2 x Tesla T4\n"
     ]
    },
    {
     "name": "stdout",
     "output_type": "stream",
     "text": [
      "warmup for: 3000\n"
     ]
    },
    {
     "name": "stderr",
     "output_type": "stream",
     "text": [
      "100%|██████████| 500/500 [00:35<00:00, 14.13it/s]\n"
     ]
    },
    {
     "name": "stdout",
     "output_type": "stream",
     "text": [
      "testing: 3000\n"
     ]
    },
    {
     "name": "stderr",
     "output_type": "stream",
     "text": [
      " 13%|█▎        | 66/500 [00:14<00:41, 10.48it/s][codecarbon INFO @ 13:42:25] Energy consumed for RAM : 0.000023 kWh. RAM Power : 5.493237018585205 W\n",
      "[codecarbon INFO @ 13:42:25] Energy consumed for all GPUs : 0.000354 kWh. Total GPU Power : 84.893 W\n",
      "[codecarbon INFO @ 13:42:25] Energy consumed for all CPUs : 0.000178 kWh. Total CPU Power : 42.5 W\n",
      "[codecarbon INFO @ 13:42:25] 0.000554 kWh of electricity used since the beginning.\n",
      " 65%|██████▌   | 327/500 [00:26<00:17,  9.92it/s][codecarbon INFO @ 13:42:40] Energy consumed for RAM : 0.000046 kWh. RAM Power : 5.493237018585205 W\n",
      "[codecarbon INFO @ 13:42:40] Energy consumed for all GPUs : 0.000682 kWh. Total GPU Power : 79.02 W\n",
      "[codecarbon INFO @ 13:42:40] Energy consumed for all CPUs : 0.000355 kWh. Total CPU Power : 42.5 W\n",
      "[codecarbon INFO @ 13:42:40] 0.001082 kWh of electricity used since the beginning.\n",
      "100%|██████████| 500/500 [00:36<00:00, 13.81it/s]\n",
      "[codecarbon INFO @ 13:42:46] Energy consumed for RAM : 0.000055 kWh. RAM Power : 5.493237018585205 W\n",
      "[codecarbon INFO @ 13:42:46] Energy consumed for all GPUs : 0.000828 kWh. Total GPU Power : 85.197 W\n",
      "[codecarbon INFO @ 13:42:46] Energy consumed for all CPUs : 0.000428 kWh. Total CPU Power : 42.5 W\n",
      "[codecarbon INFO @ 13:42:46] 0.001311 kWh of electricity used since the beginning.\n",
      "[codecarbon INFO @ 13:42:46] [setup] RAM Tracking...\n",
      "[codecarbon INFO @ 13:42:46] [setup] GPU Tracking...\n",
      "[codecarbon INFO @ 13:42:46] Tracking Nvidia GPU via pynvml\n",
      "[codecarbon INFO @ 13:42:46] [setup] CPU Tracking...\n",
      "[codecarbon WARNING @ 13:42:46] No CPU tracking mode found. Falling back on CPU constant mode.\n",
      "[codecarbon WARNING @ 13:42:47] We saw that you have a Intel(R) Xeon(R) CPU @ 2.00GHz but we don't know it. Please contact us.\n",
      "[codecarbon INFO @ 13:42:47] CPU Model on constant consumption mode: Intel(R) Xeon(R) CPU @ 2.00GHz\n",
      "[codecarbon INFO @ 13:42:47] >>> Tracker's metadata:\n",
      "[codecarbon INFO @ 13:42:47]   Platform system: Linux-5.10.0-34-cloud-amd64-x86_64-with-glibc2.31\n",
      "[codecarbon INFO @ 13:42:47]   Python version: 3.11.0\n",
      "[codecarbon INFO @ 13:42:47]   CodeCarbon version: 2.2.2\n",
      "[codecarbon INFO @ 13:42:47]   Available RAM : 14.649 GB\n",
      "[codecarbon INFO @ 13:42:47]   CPU count: 4\n",
      "[codecarbon INFO @ 13:42:47]   CPU model: Intel(R) Xeon(R) CPU @ 2.00GHz\n",
      "[codecarbon INFO @ 13:42:47]   GPU count: 2\n",
      "[codecarbon INFO @ 13:42:47]   GPU model: 2 x Tesla T4\n"
     ]
    },
    {
     "name": "stdout",
     "output_type": "stream",
     "text": [
      "warmup for: 4000\n"
     ]
    },
    {
     "name": "stderr",
     "output_type": "stream",
     "text": [
      "100%|██████████| 600/600 [00:53<00:00, 11.27it/s]\n"
     ]
    },
    {
     "name": "stdout",
     "output_type": "stream",
     "text": [
      "testing: 4000\n"
     ]
    },
    {
     "name": "stderr",
     "output_type": "stream",
     "text": [
      "  1%|          | 6/600 [00:14<19:43,  1.99s/it][codecarbon INFO @ 13:43:55] Energy consumed for RAM : 0.000023 kWh. RAM Power : 5.493237018585205 W\n",
      "[codecarbon INFO @ 13:43:55] Energy consumed for all GPUs : 0.000322 kWh. Total GPU Power : 77.2 W\n",
      "[codecarbon INFO @ 13:43:55] Energy consumed for all CPUs : 0.000178 kWh. Total CPU Power : 42.5 W\n",
      "[codecarbon INFO @ 13:43:55] 0.000522 kWh of electricity used since the beginning.\n",
      " 27%|██▋       | 163/600 [00:26<01:08,  6.35it/s][codecarbon INFO @ 13:44:10] Energy consumed for RAM : 0.000046 kWh. RAM Power : 5.493237018585205 W\n",
      "[codecarbon INFO @ 13:44:10] Energy consumed for all GPUs : 0.000622 kWh. Total GPU Power : 72.188 W\n",
      "[codecarbon INFO @ 13:44:10] Energy consumed for all CPUs : 0.000355 kWh. Total CPU Power : 42.5 W\n",
      "[codecarbon INFO @ 13:44:10] 0.001022 kWh of electricity used since the beginning.\n",
      " 76%|███████▋  | 458/600 [00:38<00:01, 124.36it/s][codecarbon INFO @ 13:44:25] Energy consumed for RAM : 0.000069 kWh. RAM Power : 5.493237018585205 W\n",
      "[codecarbon INFO @ 13:44:25] Energy consumed for all GPUs : 0.000959 kWh. Total GPU Power : 81.276 W\n",
      "[codecarbon INFO @ 13:44:25] Energy consumed for all CPUs : 0.000532 kWh. Total CPU Power : 42.5 W\n",
      "[codecarbon INFO @ 13:44:25] 0.001560 kWh of electricity used since the beginning.\n",
      "100%|██████████| 600/600 [00:53<00:00, 11.30it/s] \n",
      "[codecarbon INFO @ 13:44:33] Energy consumed for RAM : 0.000081 kWh. RAM Power : 5.493237018585205 W\n",
      "[codecarbon INFO @ 13:44:33] Energy consumed for all GPUs : 0.001143 kWh. Total GPU Power : 81.506 W\n",
      "[codecarbon INFO @ 13:44:34] Energy consumed for all CPUs : 0.000627 kWh. Total CPU Power : 42.5 W\n",
      "[codecarbon INFO @ 13:44:34] 0.001851 kWh of electricity used since the beginning.\n",
      "[codecarbon INFO @ 13:44:34] [setup] RAM Tracking...\n",
      "[codecarbon INFO @ 13:44:34] [setup] GPU Tracking...\n",
      "[codecarbon INFO @ 13:44:34] Tracking Nvidia GPU via pynvml\n",
      "[codecarbon INFO @ 13:44:34] [setup] CPU Tracking...\n",
      "[codecarbon WARNING @ 13:44:34] No CPU tracking mode found. Falling back on CPU constant mode.\n",
      "[codecarbon WARNING @ 13:44:35] We saw that you have a Intel(R) Xeon(R) CPU @ 2.00GHz but we don't know it. Please contact us.\n",
      "[codecarbon INFO @ 13:44:35] CPU Model on constant consumption mode: Intel(R) Xeon(R) CPU @ 2.00GHz\n",
      "[codecarbon INFO @ 13:44:35] >>> Tracker's metadata:\n",
      "[codecarbon INFO @ 13:44:35]   Platform system: Linux-5.10.0-34-cloud-amd64-x86_64-with-glibc2.31\n",
      "[codecarbon INFO @ 13:44:35]   Python version: 3.11.0\n",
      "[codecarbon INFO @ 13:44:35]   CodeCarbon version: 2.2.2\n",
      "[codecarbon INFO @ 13:44:35]   Available RAM : 14.649 GB\n",
      "[codecarbon INFO @ 13:44:35]   CPU count: 4\n",
      "[codecarbon INFO @ 13:44:35]   CPU model: Intel(R) Xeon(R) CPU @ 2.00GHz\n",
      "[codecarbon INFO @ 13:44:35]   GPU count: 2\n",
      "[codecarbon INFO @ 13:44:35]   GPU model: 2 x Tesla T4\n"
     ]
    },
    {
     "name": "stdout",
     "output_type": "stream",
     "text": [
      "warmup for: 5000\n"
     ]
    },
    {
     "name": "stderr",
     "output_type": "stream",
     "text": [
      "100%|██████████| 700/700 [01:12<00:00,  9.71it/s]\n"
     ]
    },
    {
     "name": "stdout",
     "output_type": "stream",
     "text": [
      "testing: 5000\n"
     ]
    },
    {
     "name": "stderr",
     "output_type": "stream",
     "text": [
      "  7%|▋         | 50/700 [00:11<01:27,  7.43it/s][codecarbon INFO @ 13:46:02] Energy consumed for RAM : 0.000023 kWh. RAM Power : 5.493237018585205 W\n",
      "[codecarbon INFO @ 13:46:02] Energy consumed for all GPUs : 0.000335 kWh. Total GPU Power : 80.483 W\n",
      "[codecarbon INFO @ 13:46:02] Energy consumed for all CPUs : 0.000177 kWh. Total CPU Power : 42.5 W\n",
      "[codecarbon INFO @ 13:46:02] 0.000536 kWh of electricity used since the beginning.\n",
      " 58%|█████▊    | 404/700 [00:29<00:23, 12.59it/s][codecarbon INFO @ 13:46:17] Energy consumed for RAM : 0.000046 kWh. RAM Power : 5.493237018585205 W\n",
      "[codecarbon INFO @ 13:46:17] Energy consumed for all GPUs : 0.000654 kWh. Total GPU Power : 76.636 W\n",
      "[codecarbon INFO @ 13:46:17] Energy consumed for all CPUs : 0.000355 kWh. Total CPU Power : 42.5 W\n",
      "[codecarbon INFO @ 13:46:17] 0.001054 kWh of electricity used since the beginning.\n",
      " 72%|███████▏  | 506/700 [00:44<00:30,  6.34it/s][codecarbon INFO @ 13:46:32] Energy consumed for RAM : 0.000069 kWh. RAM Power : 5.493237018585205 W\n",
      "[codecarbon INFO @ 13:46:32] Energy consumed for all GPUs : 0.000994 kWh. Total GPU Power : 81.71000000000001 W\n",
      "[codecarbon INFO @ 13:46:32] Energy consumed for all CPUs : 0.000532 kWh. Total CPU Power : 42.5 W\n",
      "[codecarbon INFO @ 13:46:32] 0.001594 kWh of electricity used since the beginning.\n",
      " 83%|████████▎ | 578/700 [00:57<00:33,  3.67it/s][codecarbon INFO @ 13:46:47] Energy consumed for RAM : 0.000091 kWh. RAM Power : 5.493237018585205 W\n",
      "[codecarbon INFO @ 13:46:47] Energy consumed for all GPUs : 0.001324 kWh. Total GPU Power : 79.504 W\n",
      "[codecarbon INFO @ 13:46:47] Energy consumed for all CPUs : 0.000709 kWh. Total CPU Power : 42.5 W\n",
      "[codecarbon INFO @ 13:46:47] 0.002124 kWh of electricity used since the beginning.\n",
      "100%|██████████| 700/700 [01:11<00:00,  9.73it/s]\n",
      "[codecarbon INFO @ 13:46:59] Energy consumed for RAM : 0.000110 kWh. RAM Power : 5.493237018585205 W\n",
      "[codecarbon INFO @ 13:46:59] Energy consumed for all GPUs : 0.001508 kWh. Total GPU Power : 55.582 W\n",
      "[codecarbon INFO @ 13:46:59] Energy consumed for all CPUs : 0.000850 kWh. Total CPU Power : 42.5 W\n",
      "[codecarbon INFO @ 13:46:59] 0.002467 kWh of electricity used since the beginning.\n"
     ]
    }
   ],
   "source": [
    "import os\n",
    "import asyncio\n",
    "import subprocess\n",
    "\n",
    "from deepeval.dataset import Golden\n",
    "from deepeval.test_case import LLMTestCase\n",
    "from openai import AsyncOpenAI, OpenAI\n",
    "\n",
    "from benchmarq.utility import VLLMServerSingleton\n",
    "from benchmarq.utility import Evaluator\n",
    "from benchmarq.experiment import Experiment\n",
    "\n",
    "from dotenv import load_dotenv\n",
    "\n",
    "load_dotenv()\n",
    "\n",
    "csv_files = [\"100\",\n",
    "             \"500\",\n",
    "             \"1000\",\n",
    "             \"2000\",\n",
    "             \"3000\",\n",
    "             \"4000\",\n",
    "             \"5000\",\n",
    "              ]\n",
    "\n",
    "debug = False\n",
    "model = \"EleutherAI/pythia-1.4b\"\n",
    "\n",
    "#server = VLLMServerSingleton()\n",
    "\n",
    "#server = VLLMServerSingleton()\n",
    "\n",
    "#if not debug:\n",
    "#    server.start_server(model=model)\n",
    "\n",
    "openai_api_key = os.environ[\"OPENAI_API_KEY\"]\n",
    "openai_api_base = \"http://localhost:8000/v1\"\n",
    "\n",
    "async_client = AsyncOpenAI(\n",
    "    api_key=openai_api_key,\n",
    "    base_url=openai_api_base,\n",
    ")\n",
    "\n",
    "client = OpenAI(\n",
    "    api_key=openai_api_key,\n",
    "    base_url=openai_api_base,\n",
    ")\n",
    "\n",
    "class Test(Evaluator):\n",
    "    def __init__(self):\n",
    "        super().__init__()\n",
    "\n",
    "    async def async_evaluate_consumption(self, input: Golden):\n",
    "        return await async_client.completions.create(\n",
    "            model=model,\n",
    "            prompt=f\"{input.context} {input.input}\",\n",
    "            max_tokens=50\n",
    "        )\n",
    "\n",
    "    async def evaluate_test_case(self, input: Golden) -> LLMTestCase:\n",
    "        output = await async_client.completions.create(\n",
    "            model=model,\n",
    "            prompt=f\"{input.context} {input.input}\",\n",
    "            max_tokens=50\n",
    "        ).choices[0].message.content\n",
    "\n",
    "        return LLMTestCase(\n",
    "            input=input.input,\n",
    "            expected_output=input.expected_output,\n",
    "            actual_output=output,\n",
    "            context=input.context,\n",
    "            retrieval_context=input.retrieval_context)\n",
    "\n",
    "for dataset in csv_files:\n",
    "    experiment = Experiment(\n",
    "        subquestion_id=\"input_size\",\n",
    "        id=dataset,\n",
    "        dataset_name=dataset,\n",
    "        subquestion_path=\"experiments/context_window/input_size/tests.json\",\n",
    "        name=dataset,\n",
    "        description=f\"A test to see if energy readings change based on input size. Current dataset size: {dataset}\",\n",
    "        settings=Test(),\n",
    "        skip_metrics=True,\n",
    "        debug_mode=debug,\n",
    "        )\n",
    "    a = await experiment.run()\n",
    "\n",
    "\n",
    "#if not debug:\n",
    "#    server.stop_server()"
   ]
  },
  {
   "cell_type": "code",
   "execution_count": null,
   "id": "d0ee8a23-145f-443a-b53d-dd9fc04df3e9",
   "metadata": {
    "tags": []
   },
   "outputs": [],
   "source": [
    "from benchmarq.utility import VLLMServerSingleton\n",
    "\n",
    "\n",
    "server = VLLMServerSingleton()\n",
    "\n",
    "\n",
    "server.stop_server()"
   ]
  },
  {
   "cell_type": "code",
   "execution_count": null,
   "id": "b0c2ea3f-c31c-473c-8eea-328938d6ffb2",
   "metadata": {},
   "outputs": [],
   "source": []
  }
 ],
 "metadata": {
  "environment": {
   "kernel": "conda-env-green.ai-green.ai",
   "name": "workbench-notebooks.m128",
   "type": "gcloud",
   "uri": "us-docker.pkg.dev/deeplearning-platform-release/gcr.io/workbench-notebooks:m128"
  },
  "kernelspec": {
   "display_name": "KERNEL_DISPLAY_NAME (Local)",
   "language": "python",
   "name": "conda-env-green.ai-green.ai"
  },
  "language_info": {
   "codemirror_mode": {
    "name": "ipython",
    "version": 3
   },
   "file_extension": ".py",
   "mimetype": "text/x-python",
   "name": "python",
   "nbconvert_exporter": "python",
   "pygments_lexer": "ipython3",
   "version": "3.11.0"
  }
 },
 "nbformat": 4,
 "nbformat_minor": 5
}
