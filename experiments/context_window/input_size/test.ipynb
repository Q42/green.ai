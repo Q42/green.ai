{
 "cells": [
  {
   "cell_type": "code",
   "execution_count": 3,
   "id": "initial_id",
   "metadata": {
    "jupyter": {
     "is_executing": true
    },
    "tags": []
   },
   "outputs": [
    {
     "name": "stdout",
     "output_type": "stream",
     "text": [
      "/home/jupyter/green.ai\n"
     ]
    }
   ],
   "source": [
    "import sys, os\n",
    "\n",
    "module_path = os.path.abspath(os.getcwd() + '/../../..')\n",
    "print(module_path)\n",
    "\n",
    "os.environ[\"OPENAI_API_KEY\"] = \"\"\n",
    "\n",
    "sys.path.append(module_path)"
   ]
  },
  {
   "cell_type": "code",
   "execution_count": 6,
   "id": "d669fbfa1a0781be",
   "metadata": {
    "tags": []
   },
   "outputs": [
    {
     "name": "stdout",
     "output_type": "stream",
     "text": [
      "Server is already running.\n"
     ]
    },
    {
     "ename": "IndexError",
     "evalue": "list index out of range",
     "output_type": "error",
     "traceback": [
      "\u001B[31m---------------------------------------------------------------------------\u001B[39m",
      "\u001B[31mIndexError\u001B[39m                                Traceback (most recent call last)",
      "\u001B[36mCell\u001B[39m\u001B[36m \u001B[39m\u001B[32mIn[6]\u001B[39m\u001B[32m, line 58\u001B[39m\n\u001B[32m     50\u001B[39m         \u001B[38;5;28;01mreturn\u001B[39;00m LLMTestCase(\u001B[38;5;28minput\u001B[39m=\u001B[38;5;28minput\u001B[39m.input, expected_output=\u001B[38;5;28minput\u001B[39m.expected_output, actual_output=output, context=\u001B[38;5;28minput\u001B[39m.context, retrieval_context=\u001B[38;5;28minput\u001B[39m.retrieval_context)\n\u001B[32m     52\u001B[39m \u001B[38;5;28;01mfor\u001B[39;00m dataset \u001B[38;5;129;01min\u001B[39;00m csv_files:\n\u001B[32m     53\u001B[39m     experiment = Experiment(\n\u001B[32m     54\u001B[39m         subquestion_id=\u001B[33m\"\u001B[39m\u001B[33minput_size\u001B[39m\u001B[33m\"\u001B[39m,\n\u001B[32m     55\u001B[39m         \u001B[38;5;28mid\u001B[39m=dataset,\n\u001B[32m     56\u001B[39m         dataset_name=dataset,\n\u001B[32m     57\u001B[39m         subquestion_path=\u001B[33m\"\u001B[39m\u001B[33mexperiments/context_window/input_size/results.json\u001B[39m\u001B[33m\"\u001B[39m,\n\u001B[32m---> \u001B[39m\u001B[32m58\u001B[39m         name=\u001B[43mdataset\u001B[49m\u001B[43m.\u001B[49m\u001B[43msplit\u001B[49m\u001B[43m(\u001B[49m\u001B[33;43mr\u001B[39;49m\u001B[33;43m'\u001B[39;49m\u001B[33;43m[-.]+\u001B[39;49m\u001B[33;43m'\u001B[39;49m\u001B[43m,\u001B[49m\u001B[32;43m4\u001B[39;49m\u001B[43m)\u001B[49m\u001B[43m[\u001B[49m\u001B[32;43m1\u001B[39;49m\u001B[43m]\u001B[49m,\n\u001B[32m     59\u001B[39m         description=\u001B[33m\"\u001B[39m\u001B[33mA test to see if energy readings change based on input size.\u001B[39m\u001B[33m\"\u001B[39m,\n\u001B[32m     60\u001B[39m         settings=Test())\n\u001B[32m     61\u001B[39m     a = \u001B[38;5;28;01mawait\u001B[39;00m experiment.run()\n\u001B[32m     63\u001B[39m server.stop_server()\n",
      "\u001B[31mIndexError\u001B[39m: list index out of range"
     ]
    }
   ],
   "source": [
    "from deepeval.dataset import Golden\n",
    "from deepeval.test_case import LLMTestCase\n",
    "from openai import AsyncOpenAI, OpenAI\n",
    "import re\n",
    "\n",
    "from benchmarq.utility import VLLMServerSingleton\n",
    "from benchmarq.utility import Evaluator\n",
    "from benchmarq.experiment import Experiment\n",
    "\n",
    "from dotenv import load_dotenv\n",
    "\n",
    "load_dotenv()\n",
    "\n",
    "csv_files = [\"100\",\n",
    "             \"500\",\n",
    "             \"1000\",\n",
    "             \"2000\",\n",
    "             \"3000\",\n",
    "             \"4000\",\n",
    "             \"5000\",\n",
    "             \"10000\",\n",
    "             \"20000\", ]\n",
    "\n",
    "server = VLLMServerSingleton()\n",
    "\n",
    "openai_api_key = \"EMPTY\"\n",
    "openai_api_base = \"http://localhost:8000/v1\"\n",
    "\n",
    "async_client = AsyncOpenAI(\n",
    "    api_key=openai_api_key,\n",
    "    base_url=openai_api_base,\n",
    ")\n",
    "\n",
    "client = OpenAI(\n",
    "    api_key=openai_api_key,\n",
    "    base_url=openai_api_base,\n",
    ")\n",
    "\n",
    "server.start_server(model=\"EleutherAI/pythia-1.4b\")\n",
    "\n",
    "class Test(Evaluator):\n",
    "    def __init__(self):\n",
    "        super().__init__()\n",
    "\n",
    "    async def async_evaluate_consumption(self, input: Golden):\n",
    "        return await async_client.completions.create(model=\"EleutherAI/pythia-1.4b\", prompt=f\"{input.context} {input.input}\", max_tokens=50)\n",
    "\n",
    "    def evaluate_test_case(self, input: Golden) -> LLMTestCase:\n",
    "        output = client.completions.create(model=\"EleutherAI/pythia-1.4b\", prompt=f\"{input.context} {input.input}\", max_tokens=50).choices[0].text\n",
    "\n",
    "        return LLMTestCase(input=input.input, expected_output=input.expected_output, actual_output=output, context=input.context, retrieval_context=input.retrieval_context)\n",
    "\n",
    "for dataset in csv_files:\n",
    "    experiment = Experiment(\n",
    "        subquestion_id=\"input_size\",\n",
    "        id=dataset,\n",
    "        dataset_name=dataset,\n",
    "        subquestion_path=\"experiments/context_window/input_size/tests.json\",\n",
    "        name=dataset,\n",
    "        description=f\"A test to see if energy readings change based on input size. Current dataset size: {dataset}\",\n",
    "        settings=Test())\n",
    "    a = await experiment.run()\n",
    "\n",
    "server.stop_server()"
   ]
  }
 ],
 "metadata": {
  "environment": {
   "kernel": "conda-env-green.ai-green.ai",
   "name": "workbench-notebooks.m128",
   "type": "gcloud",
   "uri": "us-docker.pkg.dev/deeplearning-platform-release/gcr.io/workbench-notebooks:m128"
  },
  "kernelspec": {
   "display_name": "KERNEL_DISPLAY_NAME (Local)",
   "language": "python",
   "name": "conda-env-green.ai-green.ai"
  },
  "language_info": {
   "codemirror_mode": {
    "name": "ipython",
    "version": 3
   },
   "file_extension": ".py",
   "mimetype": "text/x-python",
   "name": "python",
   "nbconvert_exporter": "python",
   "pygments_lexer": "ipython3",
   "version": "3.11.0"
  }
 },
 "nbformat": 4,
 "nbformat_minor": 5
}
