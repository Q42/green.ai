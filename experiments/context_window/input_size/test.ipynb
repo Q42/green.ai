{
 "cells": [
  {
   "cell_type": "code",
   "execution_count": 1,
   "id": "initial_id",
   "metadata": {
    "tags": []
   },
   "outputs": [
    {
     "name": "stdout",
     "output_type": "stream",
     "text": [
      "/Users/leenlaptop/Documents/repos/greenai/green.ai\n"
     ]
    }
   ],
   "source": [
    "import sys, os\n",
    "\n",
    "module_path = os.path.abspath(os.getcwd() + '/../../..')\n",
    "print(module_path)\n",
    "\n",
    "os.environ[\"OPENAI_API_KEY\"] = \"\"\n",
    "\n",
    "sys.path.append(module_path)"
   ]
  },
  {
   "cell_type": "code",
   "id": "d669fbfa1a0781be",
   "metadata": {
    "tags": [],
    "ExecuteTime": {
     "end_time": "2025-03-25T15:48:31.927578Z",
     "start_time": "2025-03-25T15:47:40.957994Z"
    }
   },
   "source": [
    "import os\n",
    "\n",
    "from deepeval.dataset import Golden\n",
    "from deepeval.test_case import LLMTestCase\n",
    "from openai import AsyncOpenAI, OpenAI\n",
    "\n",
    "from benchmarq.utility import VLLMServerSingleton\n",
    "from benchmarq.utility import Evaluator\n",
    "from benchmarq.experiment import Experiment\n",
    "\n",
    "from dotenv import load_dotenv\n",
    "\n",
    "load_dotenv()\n",
    "\n",
    "csv_files = [\"100\",\n",
    "             \"500\",\n",
    "             \"1000\",\n",
    "             \"2000\",\n",
    "             \"3000\",\n",
    "             \"4000\",\n",
    "             \"5000\",\n",
    "             \"10000\",\n",
    "             \"20000\", ]\n",
    "\n",
    "debug = False\n",
    "model = \"EleutherAI/pythia-1.4b\"\n",
    "\n",
    "server = VLLMServerSingleton()\n",
    "\n",
    "if not debug:\n",
    "    server.start_server(model=model)\n",
    "\n",
    "openai_api_key = os.environ[\"OPENAI_API_KEY\"]\n",
    "openai_api_base = \"http://localhost:8000/v1\"\n",
    "\n",
    "async_client = AsyncOpenAI(\n",
    "    api_key=openai_api_key,\n",
    "    base_url=openai_api_base,\n",
    ")\n",
    "\n",
    "client = OpenAI(\n",
    "    api_key=openai_api_key,\n",
    "    base_url=openai_api_base,\n",
    ")\n",
    "\n",
    "class Test(Evaluator):\n",
    "    def __init__(self):\n",
    "        super().__init__()\n",
    "\n",
    "    async def async_evaluate_consumption(self, input: Golden):\n",
    "        return await async_client.completions.create(\n",
    "            model=model,\n",
    "            prompt=f\"{input.context} {input.input}\",\n",
    "            max_tokens=50\n",
    "        )\n",
    "\n",
    "    async def evaluate_test_case(self, input: Golden) -> LLMTestCase:\n",
    "        output = await async_client.completions.create(\n",
    "            model=model,\n",
    "            prompt=f\"{input.context} {input.input}\",\n",
    "            max_tokens=50\n",
    "        ).choices[0].message.content\n",
    "\n",
    "        return LLMTestCase(\n",
    "            input=input.input,\n",
    "            expected_output=input.expected_output,\n",
    "            actual_output=output,\n",
    "            context=input.context,\n",
    "            retrieval_context=input.retrieval_context)\n",
    "\n",
    "for dataset in csv_files:\n",
    "    experiment = Experiment(\n",
    "        subquestion_id=\"input_size\",\n",
    "        id=dataset,\n",
    "        dataset_name=dataset,\n",
    "        subquestion_path=\"experiments/context_window/input_size/tests.json\",\n",
    "        name=dataset,\n",
    "        description=f\"A test to see if energy readings change based on input size. Current dataset size: {dataset}\",\n",
    "        settings=Test(),\n",
    "        skip_metrics=True,\n",
    "        debug_mode=True,\n",
    "        )\n",
    "    a = await experiment.run()\n",
    "\n",
    "\n",
    "if not debug:\n",
    "    server.stop_server()"
   ],
   "outputs": [
    {
     "name": "stderr",
     "output_type": "stream",
     "text": [
      "[codecarbon INFO @ 16:47:41] [setup] RAM Tracking...\n",
      "[codecarbon INFO @ 16:47:41] [setup] GPU Tracking...\n",
      "[codecarbon INFO @ 16:47:41] No GPU found.\n",
      "[codecarbon INFO @ 16:47:41] [setup] CPU Tracking...\n",
      "[codecarbon WARNING @ 16:47:41] No CPU tracking mode found. Falling back on CPU constant mode.\n",
      "[codecarbon INFO @ 16:47:42] CPU Model on constant consumption mode: Intel(R) Core(TM) i9-9880H CPU @ 2.30GHz\n",
      "[codecarbon INFO @ 16:47:42] >>> Tracker's metadata:\n",
      "[codecarbon INFO @ 16:47:42]   Platform system: macOS-15.3.2-x86_64-i386-64bit\n",
      "[codecarbon INFO @ 16:47:42]   Python version: 3.11.0\n",
      "[codecarbon INFO @ 16:47:42]   CodeCarbon version: 2.2.2\n",
      "[codecarbon INFO @ 16:47:42]   Available RAM : 16.000 GB\n",
      "[codecarbon INFO @ 16:47:42]   CPU count: 16\n",
      "[codecarbon INFO @ 16:47:42]   CPU model: Intel(R) Core(TM) i9-9880H CPU @ 2.30GHz\n",
      "[codecarbon INFO @ 16:47:42]   GPU count: None\n",
      "[codecarbon INFO @ 16:47:42]   GPU model: None\n"
     ]
    },
    {
     "name": "stdout",
     "output_type": "stream",
     "text": [
      "warmup for: 100\n"
     ]
    },
    {
     "name": "stderr",
     "output_type": "stream",
     "text": [
      "\n",
      "\n",
      "  0%|          | 0/1 [00:00<?, ?it/s]\u001B[A\u001B[A\n",
      "\n",
      "100%|██████████| 1/1 [00:02<00:00,  2.17s/it]\u001B[A\u001B[A\n"
     ]
    },
    {
     "name": "stdout",
     "output_type": "stream",
     "text": [
      "testing: 100\n"
     ]
    },
    {
     "name": "stderr",
     "output_type": "stream",
     "text": [
      "\n",
      "\n",
      "  0%|          | 0/1 [00:00<?, ?it/s]\u001B[A\u001B[A\n",
      "\n",
      "100%|██████████| 1/1 [00:01<00:00,  1.29s/it]\u001B[A\u001B[A\n",
      "[codecarbon INFO @ 16:47:47] Energy consumed for RAM : 0.000002 kWh. RAM Power : 6.0 W\n",
      "[codecarbon INFO @ 16:47:47] Energy consumed for all CPUs : 0.000008 kWh. Total CPU Power : 22.5 W\n",
      "[codecarbon INFO @ 16:47:47] 0.000010 kWh of electricity used since the beginning.\n",
      "/usr/local/Caskroom/miniforge/base/envs/green.ai/lib/python3.11/site-packages/codecarbon/output.py:123: FutureWarning: The behavior of DataFrame concatenation with empty or all-NA entries is deprecated. In a future version, this will no longer exclude empty or all-NA columns when determining the result dtypes. To retain the old behavior, exclude the relevant entries before the concat operation.\n",
      "  df = pd.concat([df, pd.DataFrame.from_records([dict(data.values)])])\n",
      "[codecarbon INFO @ 16:47:47] [setup] RAM Tracking...\n",
      "[codecarbon INFO @ 16:47:47] [setup] GPU Tracking...\n",
      "[codecarbon INFO @ 16:47:47] No GPU found.\n",
      "[codecarbon INFO @ 16:47:47] [setup] CPU Tracking...\n",
      "[codecarbon WARNING @ 16:47:47] No CPU tracking mode found. Falling back on CPU constant mode.\n",
      "[codecarbon INFO @ 16:47:48] CPU Model on constant consumption mode: Intel(R) Core(TM) i9-9880H CPU @ 2.30GHz\n",
      "[codecarbon INFO @ 16:47:48] >>> Tracker's metadata:\n",
      "[codecarbon INFO @ 16:47:48]   Platform system: macOS-15.3.2-x86_64-i386-64bit\n",
      "[codecarbon INFO @ 16:47:48]   Python version: 3.11.0\n",
      "[codecarbon INFO @ 16:47:48]   CodeCarbon version: 2.2.2\n",
      "[codecarbon INFO @ 16:47:48]   Available RAM : 16.000 GB\n",
      "[codecarbon INFO @ 16:47:48]   CPU count: 16\n",
      "[codecarbon INFO @ 16:47:48]   CPU model: Intel(R) Core(TM) i9-9880H CPU @ 2.30GHz\n",
      "[codecarbon INFO @ 16:47:48]   GPU count: None\n",
      "[codecarbon INFO @ 16:47:48]   GPU model: None\n"
     ]
    },
    {
     "name": "stdout",
     "output_type": "stream",
     "text": [
      "warmup for: 500\n"
     ]
    },
    {
     "name": "stderr",
     "output_type": "stream",
     "text": [
      "\n",
      "\n",
      "  0%|          | 0/1 [00:00<?, ?it/s]\u001B[A\u001B[A\n",
      "\n",
      "100%|██████████| 1/1 [00:01<00:00,  1.52s/it]\u001B[A\u001B[A\n"
     ]
    },
    {
     "name": "stdout",
     "output_type": "stream",
     "text": [
      "testing: 500\n"
     ]
    },
    {
     "name": "stderr",
     "output_type": "stream",
     "text": [
      "\n",
      "\n",
      "  0%|          | 0/1 [00:00<?, ?it/s]\u001B[A\u001B[A\n",
      "\n",
      "100%|██████████| 1/1 [00:02<00:00,  2.08s/it]\u001B[A\u001B[A\n",
      "[codecarbon INFO @ 16:47:52] Energy consumed for RAM : 0.000003 kWh. RAM Power : 6.0 W\n",
      "[codecarbon INFO @ 16:47:52] Energy consumed for all CPUs : 0.000013 kWh. Total CPU Power : 22.5 W\n",
      "[codecarbon INFO @ 16:47:52] 0.000017 kWh of electricity used since the beginning.\n",
      "[codecarbon INFO @ 16:47:52] [setup] RAM Tracking...\n",
      "[codecarbon INFO @ 16:47:52] [setup] GPU Tracking...\n",
      "[codecarbon INFO @ 16:47:52] No GPU found.\n",
      "[codecarbon INFO @ 16:47:52] [setup] CPU Tracking...\n",
      "[codecarbon WARNING @ 16:47:52] No CPU tracking mode found. Falling back on CPU constant mode.\n",
      "[codecarbon INFO @ 16:47:54] CPU Model on constant consumption mode: Intel(R) Core(TM) i9-9880H CPU @ 2.30GHz\n",
      "[codecarbon INFO @ 16:47:54] >>> Tracker's metadata:\n",
      "[codecarbon INFO @ 16:47:54]   Platform system: macOS-15.3.2-x86_64-i386-64bit\n",
      "[codecarbon INFO @ 16:47:54]   Python version: 3.11.0\n",
      "[codecarbon INFO @ 16:47:54]   CodeCarbon version: 2.2.2\n",
      "[codecarbon INFO @ 16:47:54]   Available RAM : 16.000 GB\n",
      "[codecarbon INFO @ 16:47:54]   CPU count: 16\n",
      "[codecarbon INFO @ 16:47:54]   CPU model: Intel(R) Core(TM) i9-9880H CPU @ 2.30GHz\n",
      "[codecarbon INFO @ 16:47:54]   GPU count: None\n",
      "[codecarbon INFO @ 16:47:54]   GPU model: None\n"
     ]
    },
    {
     "name": "stdout",
     "output_type": "stream",
     "text": [
      "warmup for: 1000\n"
     ]
    },
    {
     "name": "stderr",
     "output_type": "stream",
     "text": [
      "\n",
      "\n",
      "  0%|          | 0/1 [00:00<?, ?it/s]\u001B[A\u001B[A\n",
      "\n",
      "100%|██████████| 1/1 [00:00<00:00,  1.10it/s]\u001B[A\u001B[A\n"
     ]
    },
    {
     "name": "stdout",
     "output_type": "stream",
     "text": [
      "testing: 1000\n"
     ]
    },
    {
     "name": "stderr",
     "output_type": "stream",
     "text": [
      "\n",
      "\n",
      "  0%|          | 0/1 [00:00<?, ?it/s]\u001B[A\u001B[A\n",
      "\n",
      "100%|██████████| 1/1 [00:01<00:00,  1.52s/it]\u001B[A\u001B[A\n",
      "[codecarbon INFO @ 16:47:56] Energy consumed for RAM : 0.000003 kWh. RAM Power : 6.0 W\n",
      "[codecarbon INFO @ 16:47:56] Energy consumed for all CPUs : 0.000010 kWh. Total CPU Power : 22.5 W\n",
      "[codecarbon INFO @ 16:47:56] 0.000012 kWh of electricity used since the beginning.\n",
      "[codecarbon INFO @ 16:47:56] [setup] RAM Tracking...\n",
      "[codecarbon INFO @ 16:47:56] [setup] GPU Tracking...\n",
      "[codecarbon INFO @ 16:47:56] No GPU found.\n",
      "[codecarbon INFO @ 16:47:56] [setup] CPU Tracking...\n",
      "[codecarbon WARNING @ 16:47:56] No CPU tracking mode found. Falling back on CPU constant mode.\n",
      "[codecarbon INFO @ 16:47:59] CPU Model on constant consumption mode: Intel(R) Core(TM) i9-9880H CPU @ 2.30GHz\n",
      "[codecarbon INFO @ 16:47:59] >>> Tracker's metadata:\n",
      "[codecarbon INFO @ 16:47:59]   Platform system: macOS-15.3.2-x86_64-i386-64bit\n",
      "[codecarbon INFO @ 16:47:59]   Python version: 3.11.0\n",
      "[codecarbon INFO @ 16:47:59]   CodeCarbon version: 2.2.2\n",
      "[codecarbon INFO @ 16:47:59]   Available RAM : 16.000 GB\n",
      "[codecarbon INFO @ 16:47:59]   CPU count: 16\n",
      "[codecarbon INFO @ 16:47:59]   CPU model: Intel(R) Core(TM) i9-9880H CPU @ 2.30GHz\n",
      "[codecarbon INFO @ 16:47:59]   GPU count: None\n",
      "[codecarbon INFO @ 16:47:59]   GPU model: None\n"
     ]
    },
    {
     "name": "stdout",
     "output_type": "stream",
     "text": [
      "warmup for: 2000\n"
     ]
    },
    {
     "name": "stderr",
     "output_type": "stream",
     "text": [
      "\n",
      "\n",
      "  0%|          | 0/1 [00:00<?, ?it/s]\u001B[A\u001B[A\n",
      "\n",
      "100%|██████████| 1/1 [00:01<00:00,  1.33s/it]\u001B[A\u001B[A\n"
     ]
    },
    {
     "name": "stdout",
     "output_type": "stream",
     "text": [
      "testing: 2000\n"
     ]
    },
    {
     "name": "stderr",
     "output_type": "stream",
     "text": [
      "\n",
      "\n",
      "  0%|          | 0/1 [00:00<?, ?it/s]\u001B[A\u001B[A\n",
      "\n",
      "100%|██████████| 1/1 [00:01<00:00,  1.71s/it]\u001B[A\u001B[A\n",
      "[codecarbon INFO @ 16:48:02] Energy consumed for RAM : 0.000003 kWh. RAM Power : 6.0 W\n",
      "[codecarbon INFO @ 16:48:02] Energy consumed for all CPUs : 0.000011 kWh. Total CPU Power : 22.5 W\n",
      "[codecarbon INFO @ 16:48:02] 0.000014 kWh of electricity used since the beginning.\n",
      "[codecarbon INFO @ 16:48:02] [setup] RAM Tracking...\n",
      "[codecarbon INFO @ 16:48:02] [setup] GPU Tracking...\n",
      "[codecarbon INFO @ 16:48:02] No GPU found.\n",
      "[codecarbon INFO @ 16:48:02] [setup] CPU Tracking...\n",
      "[codecarbon WARNING @ 16:48:02] No CPU tracking mode found. Falling back on CPU constant mode.\n",
      "[codecarbon INFO @ 16:48:05] CPU Model on constant consumption mode: Intel(R) Core(TM) i9-9880H CPU @ 2.30GHz\n",
      "[codecarbon INFO @ 16:48:05] >>> Tracker's metadata:\n",
      "[codecarbon INFO @ 16:48:05]   Platform system: macOS-15.3.2-x86_64-i386-64bit\n",
      "[codecarbon INFO @ 16:48:05]   Python version: 3.11.0\n",
      "[codecarbon INFO @ 16:48:05]   CodeCarbon version: 2.2.2\n",
      "[codecarbon INFO @ 16:48:05]   Available RAM : 16.000 GB\n",
      "[codecarbon INFO @ 16:48:05]   CPU count: 16\n",
      "[codecarbon INFO @ 16:48:05]   CPU model: Intel(R) Core(TM) i9-9880H CPU @ 2.30GHz\n",
      "[codecarbon INFO @ 16:48:05]   GPU count: None\n",
      "[codecarbon INFO @ 16:48:05]   GPU model: None\n"
     ]
    },
    {
     "name": "stdout",
     "output_type": "stream",
     "text": [
      "warmup for: 3000\n"
     ]
    },
    {
     "name": "stderr",
     "output_type": "stream",
     "text": [
      "\n",
      "\n",
      "  0%|          | 0/1 [00:00<?, ?it/s]\u001B[A\u001B[A\n",
      "\n",
      "100%|██████████| 1/1 [00:01<00:00,  1.76s/it]\u001B[A\u001B[A\n"
     ]
    },
    {
     "name": "stdout",
     "output_type": "stream",
     "text": [
      "testing: 3000\n"
     ]
    },
    {
     "name": "stderr",
     "output_type": "stream",
     "text": [
      "\n",
      "\n",
      "  0%|          | 0/1 [00:00<?, ?it/s]\u001B[A\u001B[A\n",
      "\n",
      "100%|██████████| 1/1 [00:00<00:00,  1.40it/s]\u001B[A\u001B[A\n",
      "[codecarbon INFO @ 16:48:11] Energy consumed for RAM : 0.000001 kWh. RAM Power : 6.0 W\n",
      "[codecarbon INFO @ 16:48:11] Energy consumed for all CPUs : 0.000005 kWh. Total CPU Power : 22.5 W\n",
      "[codecarbon INFO @ 16:48:11] 0.000006 kWh of electricity used since the beginning.\n",
      "[codecarbon INFO @ 16:48:11] [setup] RAM Tracking...\n",
      "[codecarbon INFO @ 16:48:11] [setup] GPU Tracking...\n",
      "[codecarbon INFO @ 16:48:11] No GPU found.\n",
      "[codecarbon INFO @ 16:48:11] [setup] CPU Tracking...\n",
      "[codecarbon WARNING @ 16:48:11] No CPU tracking mode found. Falling back on CPU constant mode.\n",
      "[codecarbon INFO @ 16:48:15] CPU Model on constant consumption mode: Intel(R) Core(TM) i9-9880H CPU @ 2.30GHz\n",
      "[codecarbon INFO @ 16:48:15] >>> Tracker's metadata:\n",
      "[codecarbon INFO @ 16:48:15]   Platform system: macOS-15.3.2-x86_64-i386-64bit\n",
      "[codecarbon INFO @ 16:48:15]   Python version: 3.11.0\n",
      "[codecarbon INFO @ 16:48:15]   CodeCarbon version: 2.2.2\n",
      "[codecarbon INFO @ 16:48:15]   Available RAM : 16.000 GB\n",
      "[codecarbon INFO @ 16:48:15]   CPU count: 16\n",
      "[codecarbon INFO @ 16:48:15]   CPU model: Intel(R) Core(TM) i9-9880H CPU @ 2.30GHz\n",
      "[codecarbon INFO @ 16:48:15]   GPU count: None\n",
      "[codecarbon INFO @ 16:48:15]   GPU model: None\n"
     ]
    },
    {
     "name": "stdout",
     "output_type": "stream",
     "text": [
      "warmup for: 4000\n"
     ]
    },
    {
     "name": "stderr",
     "output_type": "stream",
     "text": [
      "\n",
      "\n",
      "  0%|          | 0/1 [00:00<?, ?it/s]\u001B[A\u001B[A\n",
      "\n",
      "100%|██████████| 1/1 [00:01<00:00,  1.43s/it]\u001B[A\u001B[A\n"
     ]
    },
    {
     "name": "stdout",
     "output_type": "stream",
     "text": [
      "testing: 4000\n"
     ]
    },
    {
     "name": "stderr",
     "output_type": "stream",
     "text": [
      "\n",
      "\n",
      "  0%|          | 0/1 [00:00<?, ?it/s]\u001B[A\u001B[A\n",
      "\n",
      "100%|██████████| 1/1 [00:01<00:00,  1.55s/it]\u001B[A\u001B[A\n",
      "[codecarbon INFO @ 16:48:20] Energy consumed for RAM : 0.000003 kWh. RAM Power : 6.0 W\n",
      "[codecarbon INFO @ 16:48:20] Energy consumed for all CPUs : 0.000010 kWh. Total CPU Power : 22.5 W\n",
      "[codecarbon INFO @ 16:48:20] 0.000012 kWh of electricity used since the beginning.\n",
      "[codecarbon INFO @ 16:48:20] [setup] RAM Tracking...\n",
      "[codecarbon INFO @ 16:48:20] [setup] GPU Tracking...\n",
      "[codecarbon INFO @ 16:48:20] No GPU found.\n",
      "[codecarbon INFO @ 16:48:20] [setup] CPU Tracking...\n",
      "[codecarbon WARNING @ 16:48:20] No CPU tracking mode found. Falling back on CPU constant mode.\n",
      "[codecarbon INFO @ 16:48:22] CPU Model on constant consumption mode: Intel(R) Core(TM) i9-9880H CPU @ 2.30GHz\n",
      "[codecarbon INFO @ 16:48:22] >>> Tracker's metadata:\n",
      "[codecarbon INFO @ 16:48:22]   Platform system: macOS-15.3.2-x86_64-i386-64bit\n",
      "[codecarbon INFO @ 16:48:22]   Python version: 3.11.0\n",
      "[codecarbon INFO @ 16:48:22]   CodeCarbon version: 2.2.2\n",
      "[codecarbon INFO @ 16:48:22]   Available RAM : 16.000 GB\n",
      "[codecarbon INFO @ 16:48:22]   CPU count: 16\n",
      "[codecarbon INFO @ 16:48:22]   CPU model: Intel(R) Core(TM) i9-9880H CPU @ 2.30GHz\n",
      "[codecarbon INFO @ 16:48:22]   GPU count: None\n",
      "[codecarbon INFO @ 16:48:22]   GPU model: None\n"
     ]
    },
    {
     "name": "stdout",
     "output_type": "stream",
     "text": [
      "warmup for: 5000\n"
     ]
    },
    {
     "name": "stderr",
     "output_type": "stream",
     "text": [
      "\n",
      "\n",
      "  0%|          | 0/1 [00:00<?, ?it/s]\u001B[A\u001B[A\n",
      "\n",
      "100%|██████████| 1/1 [00:00<00:00,  1.16it/s]\u001B[A\u001B[A\n"
     ]
    },
    {
     "name": "stdout",
     "output_type": "stream",
     "text": [
      "testing: 5000\n"
     ]
    },
    {
     "name": "stderr",
     "output_type": "stream",
     "text": [
      "\n",
      "\n",
      "  0%|          | 0/1 [00:00<?, ?it/s]\u001B[A\u001B[A\n",
      "\n",
      "100%|██████████| 1/1 [00:00<00:00,  1.27it/s]\u001B[A\u001B[A\n",
      "[codecarbon INFO @ 16:48:23] Energy consumed for RAM : 0.000001 kWh. RAM Power : 6.0 W\n",
      "[codecarbon INFO @ 16:48:23] Energy consumed for all CPUs : 0.000005 kWh. Total CPU Power : 22.5 W\n",
      "[codecarbon INFO @ 16:48:23] 0.000006 kWh of electricity used since the beginning.\n",
      "[codecarbon INFO @ 16:48:24] [setup] RAM Tracking...\n",
      "[codecarbon INFO @ 16:48:24] [setup] GPU Tracking...\n",
      "[codecarbon INFO @ 16:48:24] No GPU found.\n",
      "[codecarbon INFO @ 16:48:24] [setup] CPU Tracking...\n",
      "[codecarbon WARNING @ 16:48:24] No CPU tracking mode found. Falling back on CPU constant mode.\n",
      "[codecarbon INFO @ 16:48:25] CPU Model on constant consumption mode: Intel(R) Core(TM) i9-9880H CPU @ 2.30GHz\n",
      "[codecarbon INFO @ 16:48:25] >>> Tracker's metadata:\n",
      "[codecarbon INFO @ 16:48:25]   Platform system: macOS-15.3.2-x86_64-i386-64bit\n",
      "[codecarbon INFO @ 16:48:25]   Python version: 3.11.0\n",
      "[codecarbon INFO @ 16:48:25]   CodeCarbon version: 2.2.2\n",
      "[codecarbon INFO @ 16:48:25]   Available RAM : 16.000 GB\n",
      "[codecarbon INFO @ 16:48:25]   CPU count: 16\n",
      "[codecarbon INFO @ 16:48:25]   CPU model: Intel(R) Core(TM) i9-9880H CPU @ 2.30GHz\n",
      "[codecarbon INFO @ 16:48:25]   GPU count: None\n",
      "[codecarbon INFO @ 16:48:25]   GPU model: None\n"
     ]
    },
    {
     "name": "stdout",
     "output_type": "stream",
     "text": [
      "warmup for: 10000\n"
     ]
    },
    {
     "name": "stderr",
     "output_type": "stream",
     "text": [
      "\n",
      "\n",
      "  0%|          | 0/1 [00:00<?, ?it/s]\u001B[A\u001B[A\n",
      "\n",
      "100%|██████████| 1/1 [00:01<00:00,  1.15s/it]\u001B[A\u001B[A\n"
     ]
    },
    {
     "name": "stdout",
     "output_type": "stream",
     "text": [
      "testing: 10000\n"
     ]
    },
    {
     "name": "stderr",
     "output_type": "stream",
     "text": [
      "\n",
      "\n",
      "  0%|          | 0/1 [00:00<?, ?it/s]\u001B[A\u001B[A\n",
      "\n",
      "100%|██████████| 1/1 [00:01<00:00,  1.32s/it]\u001B[A\u001B[A\n",
      "[codecarbon INFO @ 16:48:28] Energy consumed for RAM : 0.000002 kWh. RAM Power : 6.0 W\n",
      "[codecarbon INFO @ 16:48:28] Energy consumed for all CPUs : 0.000008 kWh. Total CPU Power : 22.5 W\n",
      "[codecarbon INFO @ 16:48:28] 0.000011 kWh of electricity used since the beginning.\n",
      "[codecarbon INFO @ 16:48:28] [setup] RAM Tracking...\n",
      "[codecarbon INFO @ 16:48:28] [setup] GPU Tracking...\n",
      "[codecarbon INFO @ 16:48:28] No GPU found.\n",
      "[codecarbon INFO @ 16:48:28] [setup] CPU Tracking...\n",
      "[codecarbon WARNING @ 16:48:28] No CPU tracking mode found. Falling back on CPU constant mode.\n",
      "[codecarbon INFO @ 16:48:29] CPU Model on constant consumption mode: Intel(R) Core(TM) i9-9880H CPU @ 2.30GHz\n",
      "[codecarbon INFO @ 16:48:29] >>> Tracker's metadata:\n",
      "[codecarbon INFO @ 16:48:29]   Platform system: macOS-15.3.2-x86_64-i386-64bit\n",
      "[codecarbon INFO @ 16:48:29]   Python version: 3.11.0\n",
      "[codecarbon INFO @ 16:48:29]   CodeCarbon version: 2.2.2\n",
      "[codecarbon INFO @ 16:48:29]   Available RAM : 16.000 GB\n",
      "[codecarbon INFO @ 16:48:29]   CPU count: 16\n",
      "[codecarbon INFO @ 16:48:29]   CPU model: Intel(R) Core(TM) i9-9880H CPU @ 2.30GHz\n",
      "[codecarbon INFO @ 16:48:29]   GPU count: None\n",
      "[codecarbon INFO @ 16:48:29]   GPU model: None\n"
     ]
    },
    {
     "name": "stdout",
     "output_type": "stream",
     "text": [
      "warmup for: 20000\n"
     ]
    },
    {
     "name": "stderr",
     "output_type": "stream",
     "text": [
      "\n",
      "\n",
      "  0%|          | 0/1 [00:00<?, ?it/s]\u001B[A\u001B[A\n",
      "\n",
      "100%|██████████| 1/1 [00:01<00:00,  1.19s/it]\u001B[A\u001B[A\n"
     ]
    },
    {
     "name": "stdout",
     "output_type": "stream",
     "text": [
      "testing: 20000\n"
     ]
    },
    {
     "name": "stderr",
     "output_type": "stream",
     "text": [
      "\n",
      "\n",
      "  0%|          | 0/1 [00:00<?, ?it/s]\u001B[A\u001B[A\n",
      "\n",
      "100%|██████████| 1/1 [00:00<00:00,  1.09it/s]\u001B[A\u001B[A\n",
      "[codecarbon INFO @ 16:48:31] Energy consumed for RAM : 0.000002 kWh. RAM Power : 6.0 W\n",
      "[codecarbon INFO @ 16:48:31] Energy consumed for all CPUs : 0.000006 kWh. Total CPU Power : 22.5 W\n",
      "[codecarbon INFO @ 16:48:31] 0.000007 kWh of electricity used since the beginning.\n"
     ]
    }
   ],
   "execution_count": 3
  },
  {
   "cell_type": "code",
   "execution_count": null,
   "id": "d0ee8a23-145f-443a-b53d-dd9fc04df3e9",
   "metadata": {},
   "outputs": [],
   "source": []
  }
 ],
 "metadata": {
  "environment": {
   "kernel": "conda-env-green.ai-green.ai",
   "name": "workbench-notebooks.m128",
   "type": "gcloud",
   "uri": "us-docker.pkg.dev/deeplearning-platform-release/gcr.io/workbench-notebooks:m128"
  },
  "kernelspec": {
   "display_name": "Python 3 (ipykernel)",
   "language": "python",
   "name": "python3"
  },
  "language_info": {
   "codemirror_mode": {
    "name": "ipython",
    "version": 3
   },
   "file_extension": ".py",
   "mimetype": "text/x-python",
   "name": "python",
   "nbconvert_exporter": "python",
   "pygments_lexer": "ipython3",
   "version": "3.11.0"
  }
 },
 "nbformat": 4,
 "nbformat_minor": 5
}
