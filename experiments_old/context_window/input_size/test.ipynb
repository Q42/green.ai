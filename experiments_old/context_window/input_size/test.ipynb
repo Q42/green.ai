{
 "cells": [
  {
   "cell_type": "code",
   "execution_count": 3,
   "id": "initial_id",
   "metadata": {
    "tags": []
   },
   "outputs": [
    {
     "name": "stdout",
     "output_type": "stream",
     "text": [
      "/home/jupyter/green.ai\n"
     ]
    }
   ],
   "source": [
    "import sys, os\n",
    "\n",
    "module_path = os.path.abspath(os.getcwd() + '/../../..')\n",
    "print(module_path)\n",
    "\n",
    "os.environ[\"OPENAI_API_KEY\"] = \"\"\n",
    "\n",
    "sys.path.append(module_path)"
   ]
  },
  {
   "cell_type": "code",
   "id": "d669fbfa1a0781be",
   "metadata": {
    "tags": [],
    "ExecuteTime": {
     "end_time": "2025-03-31T12:18:18.962597Z",
     "start_time": "2025-03-31T12:17:43.083369Z"
    }
   },
   "source": [
    "import os\n",
    "\n",
    "from deepeval.dataset import Golden\n",
    "from deepeval.test_case import LLMTestCase\n",
    "from openai import AsyncOpenAI\n",
    "\n",
    "from benchmarq.experiment import Experiment\n",
    "\n",
    "from dotenv import load_dotenv\n",
    "\n",
    "load_dotenv()\n",
    "\n",
    "csv_files = [\"100\",\n",
    "             \"500\",\n",
    "             \"1000\",\n",
    "             \"2000\",\n",
    "             \"3000\",\n",
    "             \"4000\",\n",
    "             \"5000\",\n",
    "             \"10000\",\n",
    "             \"20000\",\n",
    "              ]\n",
    "\n",
    "debug = True\n",
    "model = \"gpt-4o\" if debug else \"EleutherAI/pythia-1.4b\"\n",
    "openai_api_base = \"https://api.openai.com/v1\" if debug else \"http://localhost:8000/v1\"\n",
    "openai_api_key = os.environ[\"OPENAI_API_KEY\"]\n",
    "\n",
    "async_client = AsyncOpenAI(\n",
    "    api_key=openai_api_key,\n",
    "    base_url=openai_api_base,\n",
    ")\n",
    "\n",
    "async def evaluate_test_case(data: Golden) -> LLMTestCase:\n",
    "    output = await async_client.chat.completions.create(\n",
    "        model=model,\n",
    "        messages=[\n",
    "            {\"role\": \"system\", \"content\": f\"{data.context}\"},\n",
    "            {\"role\": \"user\", \"content\": f\"{data.input}\"},\n",
    "        ],\n",
    "        max_tokens=50\n",
    "    )\n",
    "    output = output.choices[0].message.content\n",
    "    return LLMTestCase(\n",
    "        input=data.input,\n",
    "        expected_output=data.expected_output,\n",
    "        actual_output=output,\n",
    "        context=data.context,\n",
    "        retrieval_context=data.retrieval_context)\n",
    "\n",
    "for dataset in csv_files:\n",
    "    experiment = Experiment(\n",
    "        id=dataset,\n",
    "        name=dataset,\n",
    "        dataset_name=dataset,\n",
    "        description=f\"A test to see if energy readings change based on input size. Current dataset size: {dataset}\",\n",
    "        subquestion_id=\"input_size\",\n",
    "        subquestion_path=\"experiments_old/context_window/input_size/tests.json\",\n",
    "        c_func= evaluate_test_case,\n",
    "        skip_metrics=True,\n",
    "        debug_mode=debug,\n",
    "        )\n",
    "    a = await experiment.run()\n"
   ],
   "outputs": [
    {
     "name": "stdout",
     "output_type": "stream",
     "text": [
      "testing: 100\n",
      "dataset len: 1\n"
     ]
    },
    {
     "name": "stderr",
     "output_type": "stream",
     "text": [
      "\n",
      "\n",
      "  0%|          | 0/1 [00:00<?, ?it/s]\u001B[A\u001B[A\n",
      "\n",
      "100%|██████████| 1/1 [00:01<00:00,  1.34s/it]\u001B[A\u001B[A\n"
     ]
    },
    {
     "name": "stdout",
     "output_type": "stream",
     "text": [
      "testing: 500\n",
      "dataset len: 1\n"
     ]
    },
    {
     "name": "stderr",
     "output_type": "stream",
     "text": [
      "\n",
      "\n",
      "  0%|          | 0/1 [00:00<?, ?it/s]\u001B[A\u001B[A\n",
      "\n",
      "100%|██████████| 1/1 [00:01<00:00,  1.10s/it]\u001B[A\u001B[A\n"
     ]
    },
    {
     "name": "stdout",
     "output_type": "stream",
     "text": [
      "testing: 1000\n",
      "dataset len: 1\n"
     ]
    },
    {
     "name": "stderr",
     "output_type": "stream",
     "text": [
      "\n",
      "\n",
      "  0%|          | 0/1 [00:00<?, ?it/s]\u001B[A\u001B[A\n",
      "\n",
      "100%|██████████| 1/1 [00:01<00:00,  1.46s/it]\u001B[A\u001B[A\n"
     ]
    },
    {
     "name": "stdout",
     "output_type": "stream",
     "text": [
      "testing: 2000\n",
      "dataset len: 1\n"
     ]
    },
    {
     "name": "stderr",
     "output_type": "stream",
     "text": [
      "\n",
      "\n",
      "  0%|          | 0/1 [00:00<?, ?it/s]\u001B[A\u001B[A\n",
      "\n",
      "100%|██████████| 1/1 [00:01<00:00,  1.04s/it]\u001B[A\u001B[A\n"
     ]
    },
    {
     "name": "stdout",
     "output_type": "stream",
     "text": [
      "testing: 3000\n",
      "dataset len: 1\n"
     ]
    },
    {
     "name": "stderr",
     "output_type": "stream",
     "text": [
      "\n",
      "\n",
      "  0%|          | 0/1 [00:00<?, ?it/s]\u001B[A\u001B[A\n",
      "\n",
      "100%|██████████| 1/1 [00:01<00:00,  1.33s/it]\u001B[A\u001B[A\n"
     ]
    },
    {
     "name": "stdout",
     "output_type": "stream",
     "text": [
      "testing: 4000\n",
      "dataset len: 1\n"
     ]
    },
    {
     "name": "stderr",
     "output_type": "stream",
     "text": [
      "\n",
      "\n",
      "  0%|          | 0/1 [00:00<?, ?it/s]\u001B[A\u001B[A\n",
      "\n",
      "100%|██████████| 1/1 [00:01<00:00,  1.43s/it]\u001B[A\u001B[A\n"
     ]
    },
    {
     "name": "stdout",
     "output_type": "stream",
     "text": [
      "testing: 5000\n",
      "dataset len: 1\n"
     ]
    },
    {
     "name": "stderr",
     "output_type": "stream",
     "text": [
      "\n",
      "\n",
      "  0%|          | 0/1 [00:00<?, ?it/s]\u001B[A\u001B[A\n",
      "\n",
      "100%|██████████| 1/1 [00:01<00:00,  1.13s/it]\u001B[A\u001B[A\n"
     ]
    },
    {
     "name": "stdout",
     "output_type": "stream",
     "text": [
      "testing: 10000\n",
      "dataset len: 1\n"
     ]
    },
    {
     "name": "stderr",
     "output_type": "stream",
     "text": [
      "\n",
      "\n",
      "  0%|          | 0/1 [00:00<?, ?it/s]\u001B[A\u001B[A\n",
      "\n",
      "100%|██████████| 1/1 [00:00<00:00,  1.16it/s]\u001B[A\u001B[A\n"
     ]
    },
    {
     "name": "stdout",
     "output_type": "stream",
     "text": [
      "testing: 20000\n",
      "dataset len: 1\n"
     ]
    },
    {
     "name": "stderr",
     "output_type": "stream",
     "text": [
      "\n",
      "\n",
      "  0%|          | 0/1 [00:00<?, ?it/s]\u001B[A\u001B[A\n",
      "\n",
      "100%|██████████| 1/1 [00:02<00:00,  2.27s/it]\u001B[A\u001B[A\n"
     ]
    }
   ],
   "execution_count": 3
  },
  {
   "cell_type": "code",
   "execution_count": null,
   "id": "d0ee8a23-145f-443a-b53d-dd9fc04df3e9",
   "metadata": {
    "tags": []
   },
   "outputs": [],
   "source": [
    "from benchmarq.utility import VLLMServerSingleton\n",
    "\n",
    "\n",
    "server = VLLMServerSingleton()\n",
    "\n",
    "\n",
    "server.stop_server()"
   ]
  },
  {
   "cell_type": "code",
   "execution_count": null,
   "id": "b0c2ea3f-c31c-473c-8eea-328938d6ffb2",
   "metadata": {},
   "outputs": [],
   "source": []
  }
 ],
 "metadata": {
  "environment": {
   "kernel": "conda-env-green.ai-green.ai",
   "name": "workbench-notebooks.m128",
   "type": "gcloud",
   "uri": "us-docker.pkg.dev/deeplearning-platform-release/gcr.io/workbench-notebooks:m128"
  },
  "kernelspec": {
   "display_name": "Python 3 (ipykernel)",
   "language": "python",
   "name": "python3"
  },
  "language_info": {
   "codemirror_mode": {
    "name": "ipython",
    "version": 3
   },
   "file_extension": ".py",
   "mimetype": "text/x-python",
   "name": "python",
   "nbconvert_exporter": "python",
   "pygments_lexer": "ipython3",
   "version": "3.11.0"
  }
 },
 "nbformat": 4,
 "nbformat_minor": 5
}
